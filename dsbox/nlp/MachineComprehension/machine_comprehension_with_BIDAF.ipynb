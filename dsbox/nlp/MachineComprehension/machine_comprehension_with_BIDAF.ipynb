{
 "cells": [
  {
   "cell_type": "code",
   "execution_count": 1,
   "metadata": {},
   "outputs": [],
   "source": [
    "import numpy as np\n",
    "import string\n",
    "from nltk import word_tokenize\n",
    "import onnxruntime as nxrun"
   ]
  },
  {
   "cell_type": "code",
   "execution_count": 2,
   "metadata": {},
   "outputs": [],
   "source": [
    "def preprocess(text):\n",
    "   tokens = word_tokenize(text)\n",
    "   # split into lower-case word tokens, in numpy array with shape of (seq, 1)\n",
    "   words = np.asarray([w.lower() for w in tokens]).reshape(-1, 1)\n",
    "   # split words into chars, in numpy array with shape of (seq, 1, 1, 16)\n",
    "   chars = [[c for c in t][:16] for t in tokens]\n",
    "   chars = [cs+['']*(16-len(cs)) for cs in chars]\n",
    "   chars = np.asarray(chars).reshape(-1, 1, 1, 16)\n",
    "   return words, chars"
   ]
  },
  {
   "cell_type": "code",
   "execution_count": 3,
   "metadata": {},
   "outputs": [],
   "source": [
    "sess = nxrun.InferenceSession(\"./bidaf.onnx\")"
   ]
  },
  {
   "cell_type": "code",
   "execution_count": 4,
   "metadata": {},
   "outputs": [],
   "source": [
    "def answer(context, query):\n",
    "\n",
    "    cw, cc = preprocess(context)\n",
    "    qw, qc = preprocess(query)\n",
    "    \n",
    "    answer = sess.run(None, \n",
    "                  {'context_word': cw,\n",
    "                   'context_char': cc,\n",
    "                   'query_word': qw,\n",
    "                   'query_char': qc})\n",
    "    \n",
    "    answer = sess.run(None, \n",
    "                  {'context_word': cw,\n",
    "                   'context_char': cc,\n",
    "                   'query_word': qw,\n",
    "                   'query_char': qc})\n",
    "    \n",
    "    # assuming answer contains the np arrays for start_pos/end_pos\n",
    "    start = np.asscalar(answer[0])\n",
    "    end = np.asscalar(answer[1])\n",
    "    return (\" \".join([w for w in cw[start:end+1].reshape(-1)]))"
   ]
  },
  {
   "cell_type": "code",
   "execution_count": 5,
   "metadata": {},
   "outputs": [],
   "source": [
    "context = 'Revel is a full-service digital consultancy that partners \\\n",
    "with organizations to lead go-to-market transformation by \\\n",
    "building seamless, simple, connected experiences. \\\n",
    " \\\n",
    "We are problem solvers, designers and builders \\\n",
    "united around a core set of values and a commitment \\\n",
    "to solving complex challenges swiftly, efficiently and elegantly.'"
   ]
  },
  {
   "cell_type": "code",
   "execution_count": null,
   "metadata": {},
   "outputs": [],
   "source": []
  },
  {
   "cell_type": "code",
   "execution_count": 6,
   "metadata": {},
   "outputs": [
    {
     "data": {
      "text/plain": [
       "'a full-service digital consultancy'"
      ]
     },
     "execution_count": 6,
     "metadata": {},
     "output_type": "execute_result"
    }
   ],
   "source": [
    "query = 'What is Revel?'\n",
    "answer(context, query)"
   ]
  },
  {
   "cell_type": "code",
   "execution_count": 7,
   "metadata": {},
   "outputs": [
    {
     "data": {
      "text/plain": [
       "'partners with organizations to lead go-to-market transformation by building seamless , simple , connected experiences'"
      ]
     },
     "execution_count": 7,
     "metadata": {},
     "output_type": "execute_result"
    }
   ],
   "source": [
    "query = 'What does Revel do?'\n",
    "answer(context, query)"
   ]
  },
  {
   "cell_type": "code",
   "execution_count": 8,
   "metadata": {},
   "outputs": [
    {
     "data": {
      "text/plain": [
       "'swiftly , efficiently and elegantly'"
      ]
     },
     "execution_count": 8,
     "metadata": {},
     "output_type": "execute_result"
    }
   ],
   "source": [
    "query = 'How does Revel solve challenges?'\n",
    "answer(context, query)"
   ]
  },
  {
   "cell_type": "code",
   "execution_count": 9,
   "metadata": {},
   "outputs": [
    {
     "data": {
      "text/plain": [
       "'we are problem solvers , designers and builders united around a core set of values'"
      ]
     },
     "execution_count": 9,
     "metadata": {},
     "output_type": "execute_result"
    }
   ],
   "source": [
    "query = 'Tell me about revel'\n",
    "answer(context, query)"
   ]
  },
  {
   "cell_type": "code",
   "execution_count": 10,
   "metadata": {},
   "outputs": [
    {
     "data": {
      "text/plain": [
       "'revel'"
      ]
     },
     "execution_count": 10,
     "metadata": {},
     "output_type": "execute_result"
    }
   ],
   "source": [
    "query = 'Which is the best consultancy in the world?'\n",
    "answer(context, query)"
   ]
  },
  {
   "cell_type": "code",
   "execution_count": null,
   "metadata": {},
   "outputs": [],
   "source": []
  }
 ],
 "metadata": {
  "kernelspec": {
   "display_name": "Python 3",
   "language": "python",
   "name": "python3"
  },
  "language_info": {
   "codemirror_mode": {
    "name": "ipython",
    "version": 3
   },
   "file_extension": ".py",
   "mimetype": "text/x-python",
   "name": "python",
   "nbconvert_exporter": "python",
   "pygments_lexer": "ipython3",
   "version": "3.7.3"
  }
 },
 "nbformat": 4,
 "nbformat_minor": 2
}
